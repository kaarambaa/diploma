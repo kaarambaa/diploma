{
 "cells": [
  {
   "cell_type": "code",
   "execution_count": 5,
   "metadata": {},
   "outputs": [
    {
     "name": "stdout",
     "output_type": "stream",
     "text": [
      "The autoreload extension is already loaded. To reload it, use:\n",
      "  %reload_ext autoreload\n"
     ]
    }
   ],
   "source": [
    "import networkx as nx \n",
    "# Data Visualisation library in Python\n",
    "import matplotlib.pyplot as plt\n",
    "# Python pakage for numerical processing\n",
    "import numpy as np\n",
    "import pandas as pd\n",
    "from datetime import datetime\n",
    "import warnings\n",
    "\n",
    "warnings.filterwarnings('ignore')\n",
    "\n",
    "# autoreload: IPython extension to reload modules before executing user code.\n",
    "# autoreload reloads modules automatically before entering the execution of code typed at the IPython prompt.\n",
    "%load_ext autoreload\n",
    "# Reload all modules every time before executing the Python code typed\n",
    "%autoreload 2  \n",
    "# enables the Inline-backend of Matplotlib\n",
    "%matplotlib inline \n",
    "%config InlineBackend.figure_format = 'retina'"
   ]
  },
  {
   "cell_type": "code",
   "execution_count": 6,
   "metadata": {},
   "outputs": [],
   "source": [
    "df = pd.read_csv('dataset.csv', sep = ';')"
   ]
  },
  {
   "cell_type": "code",
   "execution_count": 7,
   "metadata": {},
   "outputs": [
    {
     "data": {
      "text/html": [
       "<div>\n",
       "<style scoped>\n",
       "    .dataframe tbody tr th:only-of-type {\n",
       "        vertical-align: middle;\n",
       "    }\n",
       "\n",
       "    .dataframe tbody tr th {\n",
       "        vertical-align: top;\n",
       "    }\n",
       "\n",
       "    .dataframe thead th {\n",
       "        text-align: right;\n",
       "    }\n",
       "</style>\n",
       "<table border=\"1\" class=\"dataframe\">\n",
       "  <thead>\n",
       "    <tr style=\"text-align: right;\">\n",
       "      <th></th>\n",
       "      <th>Source</th>\n",
       "      <th>Target</th>\n",
       "      <th>Weight</th>\n",
       "      <th>Language</th>\n",
       "    </tr>\n",
       "  </thead>\n",
       "  <tbody>\n",
       "    <tr>\n",
       "      <td>0</td>\n",
       "      <td>1</td>\n",
       "      <td>8</td>\n",
       "      <td>5</td>\n",
       "      <td>English</td>\n",
       "    </tr>\n",
       "    <tr>\n",
       "      <td>1</td>\n",
       "      <td>2</td>\n",
       "      <td>8</td>\n",
       "      <td>6</td>\n",
       "      <td>English</td>\n",
       "    </tr>\n",
       "    <tr>\n",
       "      <td>2</td>\n",
       "      <td>2</td>\n",
       "      <td>7</td>\n",
       "      <td>30</td>\n",
       "      <td>English</td>\n",
       "    </tr>\n",
       "    <tr>\n",
       "      <td>3</td>\n",
       "      <td>3</td>\n",
       "      <td>7</td>\n",
       "      <td>45</td>\n",
       "      <td>English</td>\n",
       "    </tr>\n",
       "    <tr>\n",
       "      <td>4</td>\n",
       "      <td>4</td>\n",
       "      <td>7</td>\n",
       "      <td>34</td>\n",
       "      <td>English</td>\n",
       "    </tr>\n",
       "    <tr>\n",
       "      <td>5</td>\n",
       "      <td>5</td>\n",
       "      <td>6</td>\n",
       "      <td>15</td>\n",
       "      <td>English</td>\n",
       "    </tr>\n",
       "    <tr>\n",
       "      <td>6</td>\n",
       "      <td>6</td>\n",
       "      <td>7</td>\n",
       "      <td>20</td>\n",
       "      <td>English</td>\n",
       "    </tr>\n",
       "    <tr>\n",
       "      <td>7</td>\n",
       "      <td>6</td>\n",
       "      <td>10</td>\n",
       "      <td>14</td>\n",
       "      <td>English</td>\n",
       "    </tr>\n",
       "    <tr>\n",
       "      <td>8</td>\n",
       "      <td>7</td>\n",
       "      <td>10</td>\n",
       "      <td>33</td>\n",
       "      <td>English</td>\n",
       "    </tr>\n",
       "    <tr>\n",
       "      <td>9</td>\n",
       "      <td>7</td>\n",
       "      <td>9</td>\n",
       "      <td>37</td>\n",
       "      <td>English</td>\n",
       "    </tr>\n",
       "    <tr>\n",
       "      <td>10</td>\n",
       "      <td>7</td>\n",
       "      <td>8</td>\n",
       "      <td>28</td>\n",
       "      <td>English</td>\n",
       "    </tr>\n",
       "    <tr>\n",
       "      <td>11</td>\n",
       "      <td>8</td>\n",
       "      <td>9</td>\n",
       "      <td>16</td>\n",
       "      <td>English</td>\n",
       "    </tr>\n",
       "    <tr>\n",
       "      <td>12</td>\n",
       "      <td>9</td>\n",
       "      <td>11</td>\n",
       "      <td>30</td>\n",
       "      <td>English</td>\n",
       "    </tr>\n",
       "    <tr>\n",
       "      <td>13</td>\n",
       "      <td>10</td>\n",
       "      <td>11</td>\n",
       "      <td>24</td>\n",
       "      <td>English</td>\n",
       "    </tr>\n",
       "    <tr>\n",
       "      <td>14</td>\n",
       "      <td>10</td>\n",
       "      <td>16</td>\n",
       "      <td>15</td>\n",
       "      <td>English</td>\n",
       "    </tr>\n",
       "    <tr>\n",
       "      <td>15</td>\n",
       "      <td>11</td>\n",
       "      <td>12</td>\n",
       "      <td>10</td>\n",
       "      <td>Russian</td>\n",
       "    </tr>\n",
       "    <tr>\n",
       "      <td>16</td>\n",
       "      <td>11</td>\n",
       "      <td>13</td>\n",
       "      <td>17</td>\n",
       "      <td>Russian</td>\n",
       "    </tr>\n",
       "    <tr>\n",
       "      <td>17</td>\n",
       "      <td>11</td>\n",
       "      <td>14</td>\n",
       "      <td>20</td>\n",
       "      <td>Russian</td>\n",
       "    </tr>\n",
       "    <tr>\n",
       "      <td>18</td>\n",
       "      <td>11</td>\n",
       "      <td>16</td>\n",
       "      <td>23</td>\n",
       "      <td>Russian</td>\n",
       "    </tr>\n",
       "    <tr>\n",
       "      <td>19</td>\n",
       "      <td>12</td>\n",
       "      <td>13</td>\n",
       "      <td>15</td>\n",
       "      <td>Russian</td>\n",
       "    </tr>\n",
       "    <tr>\n",
       "      <td>20</td>\n",
       "      <td>13</td>\n",
       "      <td>14</td>\n",
       "      <td>18</td>\n",
       "      <td>Russian</td>\n",
       "    </tr>\n",
       "    <tr>\n",
       "      <td>21</td>\n",
       "      <td>13</td>\n",
       "      <td>19</td>\n",
       "      <td>34</td>\n",
       "      <td>Russian</td>\n",
       "    </tr>\n",
       "    <tr>\n",
       "      <td>22</td>\n",
       "      <td>14</td>\n",
       "      <td>15</td>\n",
       "      <td>15</td>\n",
       "      <td>Russian</td>\n",
       "    </tr>\n",
       "    <tr>\n",
       "      <td>23</td>\n",
       "      <td>14</td>\n",
       "      <td>19</td>\n",
       "      <td>43</td>\n",
       "      <td>Russian</td>\n",
       "    </tr>\n",
       "    <tr>\n",
       "      <td>24</td>\n",
       "      <td>15</td>\n",
       "      <td>16</td>\n",
       "      <td>17</td>\n",
       "      <td>Russian</td>\n",
       "    </tr>\n",
       "    <tr>\n",
       "      <td>25</td>\n",
       "      <td>15</td>\n",
       "      <td>19</td>\n",
       "      <td>36</td>\n",
       "      <td>Russian</td>\n",
       "    </tr>\n",
       "    <tr>\n",
       "      <td>26</td>\n",
       "      <td>17</td>\n",
       "      <td>18</td>\n",
       "      <td>15</td>\n",
       "      <td>Russian</td>\n",
       "    </tr>\n",
       "    <tr>\n",
       "      <td>27</td>\n",
       "      <td>18</td>\n",
       "      <td>19</td>\n",
       "      <td>41</td>\n",
       "      <td>Russian</td>\n",
       "    </tr>\n",
       "    <tr>\n",
       "      <td>28</td>\n",
       "      <td>19</td>\n",
       "      <td>20</td>\n",
       "      <td>25</td>\n",
       "      <td>Russian</td>\n",
       "    </tr>\n",
       "    <tr>\n",
       "      <td>29</td>\n",
       "      <td>19</td>\n",
       "      <td>22</td>\n",
       "      <td>28</td>\n",
       "      <td>Russian</td>\n",
       "    </tr>\n",
       "    <tr>\n",
       "      <td>30</td>\n",
       "      <td>19</td>\n",
       "      <td>23</td>\n",
       "      <td>32</td>\n",
       "      <td>Russian</td>\n",
       "    </tr>\n",
       "    <tr>\n",
       "      <td>31</td>\n",
       "      <td>20</td>\n",
       "      <td>21</td>\n",
       "      <td>22</td>\n",
       "      <td>Russian</td>\n",
       "    </tr>\n",
       "  </tbody>\n",
       "</table>\n",
       "</div>"
      ],
      "text/plain": [
       "    Source  Target  Weight Language\n",
       "0        1       8       5  English\n",
       "1        2       8       6  English\n",
       "2        2       7      30  English\n",
       "3        3       7      45  English\n",
       "4        4       7      34  English\n",
       "5        5       6      15  English\n",
       "6        6       7      20  English\n",
       "7        6      10      14  English\n",
       "8        7      10      33  English\n",
       "9        7       9      37  English\n",
       "10       7       8      28  English\n",
       "11       8       9      16  English\n",
       "12       9      11      30  English\n",
       "13      10      11      24  English\n",
       "14      10      16      15  English\n",
       "15      11      12      10  Russian\n",
       "16      11      13      17  Russian\n",
       "17      11      14      20  Russian\n",
       "18      11      16      23  Russian\n",
       "19      12      13      15  Russian\n",
       "20      13      14      18  Russian\n",
       "21      13      19      34  Russian\n",
       "22      14      15      15  Russian\n",
       "23      14      19      43  Russian\n",
       "24      15      16      17  Russian\n",
       "25      15      19      36  Russian\n",
       "26      17      18      15  Russian\n",
       "27      18      19      41  Russian\n",
       "28      19      20      25  Russian\n",
       "29      19      22      28  Russian\n",
       "30      19      23      32  Russian\n",
       "31      20      21      22  Russian"
      ]
     },
     "execution_count": 7,
     "metadata": {},
     "output_type": "execute_result"
    }
   ],
   "source": [
    "df"
   ]
  },
  {
   "cell_type": "code",
   "execution_count": 8,
   "metadata": {},
   "outputs": [],
   "source": [
    "G = nx.from_pandas_edgelist(df,source = 'Source', target = 'Target',edge_attr=True)"
   ]
  },
  {
   "cell_type": "code",
   "execution_count": 9,
   "metadata": {},
   "outputs": [
    {
     "name": "stdout",
     "output_type": "stream",
     "text": [
      "Number of nodes is: 23\n"
     ]
    }
   ],
   "source": [
    "print(f'Number of nodes is: {len(G.nodes)}')"
   ]
  },
  {
   "cell_type": "code",
   "execution_count": 10,
   "metadata": {},
   "outputs": [
    {
     "name": "stdout",
     "output_type": "stream",
     "text": [
      "Number of relationships is: 32\n"
     ]
    }
   ],
   "source": [
    "print(f'Number of relationships is: {len(G.edges)}')"
   ]
  },
  {
   "cell_type": "code",
   "execution_count": 11,
   "metadata": {},
   "outputs": [
    {
     "data": {
      "text/plain": [
       "[(1, {}),\n",
       " (8, {}),\n",
       " (2, {}),\n",
       " (7, {}),\n",
       " (3, {}),\n",
       " (4, {}),\n",
       " (5, {}),\n",
       " (6, {}),\n",
       " (10, {}),\n",
       " (9, {}),\n",
       " (11, {}),\n",
       " (16, {}),\n",
       " (12, {}),\n",
       " (13, {}),\n",
       " (14, {}),\n",
       " (19, {}),\n",
       " (15, {}),\n",
       " (17, {}),\n",
       " (18, {}),\n",
       " (20, {}),\n",
       " (22, {}),\n",
       " (23, {}),\n",
       " (21, {})]"
      ]
     },
     "execution_count": 11,
     "metadata": {},
     "output_type": "execute_result"
    }
   ],
   "source": [
    "list(G.nodes(data=True))"
   ]
  },
  {
   "cell_type": "code",
   "execution_count": 43,
   "metadata": {},
   "outputs": [
    {
     "data": {
      "image/png": "[encoded data removed]",
      "text/plain": [
       "<Figure size 432x288 with 1 Axes>"
      ]
     },
     "metadata": {
      "image/png": {
       "height": 302,
       "width": 446
      }
     },
     "output_type": "display_data"
    }
   ],
   "source": [
    "nx.draw(G,with_labels=True)"
   ]
  },
  {
   "cell_type": "markdown",
   "metadata": {},
   "source": [
    "### Degree centrality"
   ]
  },
  {
   "cell_type": "code",
   "execution_count": 38,
   "metadata": {},
   "outputs": [
    {
     "data": {
      "text/plain": [
       "{1: 0.045454545454545456,\n",
       " 3: 0.045454545454545456,\n",
       " 4: 0.045454545454545456,\n",
       " 5: 0.045454545454545456,\n",
       " 17: 0.045454545454545456,\n",
       " 22: 0.045454545454545456,\n",
       " 23: 0.045454545454545456,\n",
       " 21: 0.045454545454545456,\n",
       " 2: 0.09090909090909091,\n",
       " 12: 0.09090909090909091,\n",
       " 18: 0.09090909090909091,\n",
       " 20: 0.09090909090909091,\n",
       " 6: 0.13636363636363635,\n",
       " 9: 0.13636363636363635,\n",
       " 16: 0.13636363636363635,\n",
       " 15: 0.13636363636363635,\n",
       " 8: 0.18181818181818182,\n",
       " 10: 0.18181818181818182,\n",
       " 13: 0.18181818181818182,\n",
       " 14: 0.18181818181818182,\n",
       " 11: 0.2727272727272727,\n",
       " 7: 0.3181818181818182,\n",
       " 19: 0.3181818181818182}"
      ]
     },
     "execution_count": 38,
     "metadata": {},
     "output_type": "execute_result"
    }
   ],
   "source": [
    "{k: v for k, v in sorted(nx.degree_centrality(G).items(), key=lambda item: item[1])}"
   ]
  },
  {
   "cell_type": "markdown",
   "metadata": {},
   "source": [
    "#### The most \"important\" nodes: 19, 7, 11"
   ]
  },
  {
   "cell_type": "markdown",
   "metadata": {},
   "source": [
    "### Betweeness centrality"
   ]
  },
  {
   "cell_type": "code",
   "execution_count": 39,
   "metadata": {},
   "outputs": [
    {
     "data": {
      "text/plain": [
       "{1: 0.0,\n",
       " 2: 0.0,\n",
       " 3: 0.0,\n",
       " 4: 0.0,\n",
       " 5: 0.0,\n",
       " 12: 0.0,\n",
       " 17: 0.0,\n",
       " 22: 0.0,\n",
       " 23: 0.0,\n",
       " 21: 0.0,\n",
       " 15: 19.7,\n",
       " 6: 21.0,\n",
       " 18: 21.0,\n",
       " 20: 21.0,\n",
       " 16: 21.783333333333324,\n",
       " 8: 24.833333333333336,\n",
       " 14: 35.06666666666666,\n",
       " 13: 40.4,\n",
       " 9: 45.39999999999999,\n",
       " 10: 58.599999999999994,\n",
       " 7: 64.33333333333333,\n",
       " 11: 96.13333333333338,\n",
       " 19: 109.75}"
      ]
     },
     "execution_count": 39,
     "metadata": {},
     "output_type": "execute_result"
    }
   ],
   "source": [
    "{k: v for k, v in sorted(nx.betweenness_centrality(G, normalized=False).items(), key=lambda item: item[1])}\n"
   ]
  },
  {
   "cell_type": "markdown",
   "metadata": {},
   "source": [
    "#### The most \"important\" nodes: 19, 11"
   ]
  },
  {
   "cell_type": "markdown",
   "metadata": {},
   "source": [
    "### Closeness centrality"
   ]
  },
  {
   "cell_type": "code",
   "execution_count": 40,
   "metadata": {},
   "outputs": [
    {
     "data": {
      "text/plain": [
       "{17: 0.22,\n",
       " 21: 0.22,\n",
       " 1: 0.24444444444444444,\n",
       " 5: 0.24719101123595505,\n",
       " 3: 0.2619047619047619,\n",
       " 4: 0.2619047619047619,\n",
       " 2: 0.2682926829268293,\n",
       " 22: 0.2716049382716049,\n",
       " 23: 0.2716049382716049,\n",
       " 18: 0.27848101265822783,\n",
       " 20: 0.27848101265822783,\n",
       " 8: 0.3188405797101449,\n",
       " 6: 0.3235294117647059,\n",
       " 12: 0.34375,\n",
       " 7: 0.3492063492063492,\n",
       " 19: 0.36666666666666664,\n",
       " 15: 0.36666666666666664,\n",
       " 9: 0.3793103448275862,\n",
       " 10: 0.39285714285714285,\n",
       " 16: 0.39285714285714285,\n",
       " 13: 0.4,\n",
       " 14: 0.4,\n",
       " 11: 0.43137254901960786}"
      ]
     },
     "execution_count": 40,
     "metadata": {},
     "output_type": "execute_result"
    }
   ],
   "source": [
    "{k: v for k, v in sorted(nx.closeness_centrality(G).items(), key=lambda item: item[1])}"
   ]
  },
  {
   "cell_type": "markdown",
   "metadata": {},
   "source": [
    "#### The most \"important\" nodes: 11, 14, 13"
   ]
  },
  {
   "cell_type": "markdown",
   "metadata": {},
   "source": [
    "### PageRank centrality"
   ]
  },
  {
   "cell_type": "code",
   "execution_count": 41,
   "metadata": {},
   "outputs": [
    {
     "data": {
      "text/plain": [
       "{3: 0.019079194541140494,\n",
       " 4: 0.019079194541140494,\n",
       " 1: 0.01963531068705017,\n",
       " 22: 0.019834229227573243,\n",
       " 23: 0.019834229227573243,\n",
       " 5: 0.020117765969791115,\n",
       " 17: 0.023408018354487286,\n",
       " 21: 0.023408018354487286,\n",
       " 12: 0.029292535956290697,\n",
       " 2: 0.03219276609775588,\n",
       " 18: 0.03973001603131751,\n",
       " 20: 0.03973001603131751,\n",
       " 16: 0.04167646173519761,\n",
       " 9: 0.043271032705147094,\n",
       " 15: 0.043303390392811114,\n",
       " 6: 0.047986158981807484,\n",
       " 14: 0.0548745938411956,\n",
       " 13: 0.05502267052158169,\n",
       " 10: 0.05556171805662807,\n",
       " 8: 0.06171118143058903,\n",
       " 11: 0.07819967651059596,\n",
       " 7: 0.10341481682532494,\n",
       " 19: 0.10963700397919628}"
      ]
     },
     "execution_count": 41,
     "metadata": {},
     "output_type": "execute_result"
    }
   ],
   "source": [
    "{k: v for k, v in sorted(nx.pagerank(G).items(), key=lambda item: item[1])}"
   ]
  },
  {
   "cell_type": "markdown",
   "metadata": {},
   "source": [
    "#### The most \"important\" nodes: 19, 7"
   ]
  },
  {
   "cell_type": "markdown",
   "metadata": {},
   "source": [
    "### Eigenvector centralit"
   ]
  },
  {
   "cell_type": "code",
   "execution_count": 42,
   "metadata": {},
   "outputs": [
    {
     "data": {
      "text/plain": [
       "{17: 0.023115581360076826,\n",
       " 21: 0.023115581360076826,\n",
       " 5: 0.04183671739722629,\n",
       " 1: 0.04641182811719382,\n",
       " 3: 0.07601877260049249,\n",
       " 4: 0.07601877260049249,\n",
       " 22: 0.08341483509379087,\n",
       " 23: 0.08341483509379087,\n",
       " 18: 0.08939219154181562,\n",
       " 20: 0.08939219154181562,\n",
       " 2: 0.12243060071768629,\n",
       " 6: 0.16178678437010227,\n",
       " 8: 0.17947864531231397,\n",
       " 12: 0.19410794456632993,\n",
       " 9: 0.2312471843511273,\n",
       " 15: 0.23399137563175718,\n",
       " 16: 0.2442731183956317,\n",
       " 10: 0.28983835038933153,\n",
       " 7: 0.29397179499408105,\n",
       " 19: 0.3225798150010544,\n",
       " 13: 0.3298356587567911,\n",
       " 14: 0.3380299534156411,\n",
       " 11: 0.420809645861064}"
      ]
     },
     "execution_count": 42,
     "metadata": {},
     "output_type": "execute_result"
    }
   ],
   "source": [
    "{k: v for k, v in sorted(nx.eigenvector_centrality(G).items(), key=lambda item: item[1])}"
   ]
  },
  {
   "cell_type": "markdown",
   "metadata": {},
   "source": [
    "#### The most \"important\" nodes: 11, 14, 13, 19"
   ]
  },
  {
   "cell_type": "markdown",
   "metadata": {},
   "source": [
    "### Community detection in Networks"
   ]
  },
  {
   "cell_type": "code",
   "execution_count": 18,
   "metadata": {},
   "outputs": [],
   "source": [
    "from community import community_louvain\n",
    "partition = community_louvain.best_partition(G.to_undirected())\n"
   ]
  },
  {
   "cell_type": "code",
   "execution_count": 19,
   "metadata": {},
   "outputs": [
    {
     "data": {
      "image/png": "[encoded data removed]",
      "text/plain": [
       "<Figure size 432x288 with 1 Axes>"
      ]
     },
     "metadata": {
      "image/png": {
       "height": 231,
       "width": 349
      }
     },
     "output_type": "display_data"
    }
   ],
   "source": [
    "size = float(len(set(partition.values())))\n",
    "colors = ['red', 'blue', 'green','orange']\n",
    "pos = nx.spring_layout(G)\n",
    "count = 0\n",
    "for com in set(partition.values()) :\n",
    "    list_nodes = [nodes for nodes in partition.keys()\n",
    "                                if partition[nodes] == com]\n",
    "    \n",
    "    nx.draw_networkx_nodes(G, pos, list_nodes, node_size = 20,\n",
    "                                node_color = colors[count])\n",
    "    count += 1\n",
    "\n",
    "\n",
    "nx.draw_networkx_edges(G, pos, alpha=0.5)\n",
    "plt.show()"
   ]
  }
 ],
 "metadata": {
  "kernelspec": {
   "display_name": "Python 3",
   "language": "python",
   "name": "python3"
  },
  "language_info": {
   "codemirror_mode": {
    "name": "ipython",
    "version": 3
   },
   "file_extension": ".py",
   "mimetype": "text/x-python",
   "name": "python",
   "nbconvert_exporter": "python",
   "pygments_lexer": "ipython3",
   "version": "3.7.3"
  }
 },
 "nbformat": 4,
 "nbformat_minor": 2
}
