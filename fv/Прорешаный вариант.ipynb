{
 "cells": [
  {
   "cell_type": "markdown",
   "metadata": {},
   "source": [
    "## Полезные ссылки\n",
    "https://pythonworld.ru/tipy-dannyx-v-python/stroki-funkcii-i-metody-strok.html"
   ]
  },
  {
   "cell_type": "markdown",
   "metadata": {
    "colab_type": "text",
    "id": "UBoK4xXkZIr5"
   },
   "source": [
    "# Контрольная работа (пробный вариант)\n",
    "\n",
    "18 сентября\n",
    "\n",
    "**Списывание и использование телефонов** \n",
    "\n",
    "Первое предупреждение, сделанное ассистентом или преподавателем: - 1 балл к вашей оценке.\n",
    "\n",
    "Второе предупреждение: работа аннулируется без права переписывания.\n",
    "\n",
    "**Оформление, стиль, эффективность (штраф до 1 балла)**\n",
    "\n",
    "За каждый тип повторяющейся стилистической ошибки снимается 0.25 балла Повторяющейся считаем ошибку, допущенную минимум 2 раза.\n",
    "\n",
    "0.25 балла снимается за каждые 4 не систематические ошибки (4 разных ошибки, допущенных по одному разу.)\n",
    "\n",
    "Так же из этого балла могут сниматься штрафы 0.25 за использование ненужных функций (мы не оцениваем здесь эффективность решения, но смотрим на такие вещи, как, например, перевод строкового вода в строку - лишняя ненужная операция). Мы делаем вывод, что вы не до конца понимаете, как работает код.\n",
    "\n",
    "Все задачи должны принимать значения на ввод (решение для частного случая будет считаться неполным)."
   ]
  },
  {
   "cell_type": "markdown",
   "metadata": {
    "colab_type": "text",
    "id": "46WOu_GWZHMh"
   },
   "source": [
    "### Задание 1 (1 балл; 0.1 за каждый пункт)  \n",
    "\n",
    "Во время исполнения кода не перезаписывайте значения переменных ex1 и ex2 (если только метод не делает этого по умолчанию)  \n",
    "\n",
    "1. Добавьте в конец списка строку 'say no more'.  \n",
    "2. Посчитайте количество 'wink' в списке.  \n",
    "3. Удалите строку 'say no more' из списка и сохраните ее в переменной (с помощью одного метода). Напечатайте значение этой переменной.  \n",
    "4. Измените порядок элементов в списке на обратный.  \n",
    "5. Найдите индекс элемента 'say'.  \n",
    "6. В ячейке ниже дан еще один список. С помощью операций над множествами, найдите элементы, которые есть в обоих списках.  \n",
    "7. Объедините списки ex1 и ex2 с помощью операций над множествами и превратите результат обратно в список.  \n",
    "8. Превратите список ex2 обратно в строку, где между словами будут стоять эмоджи ¯\\(ツ)/¯  \n",
    "9. Выведете каждый 4 элемент объединенного списка (из пункта 7)  \n",
    "10. Выведете каждый 2 элемент списка из пункта 7 в обратном порядке"
   ]
  },
  {
   "cell_type": "code",
   "execution_count": 24,
   "metadata": {
    "colab": {
     "base_uri": "https://localhost:8080/",
     "height": 34
    },
    "colab_type": "code",
    "id": "mb6JJ9jsmhnc",
    "outputId": "b015b58c-b2fb-4216-a448-cafec11457bd"
   },
   "outputs": [
    {
     "data": {
      "text/plain": [
       "['Wink,', 'wink,', 'nudge,', 'nudge,', 'say', 'no', 'more']"
      ]
     },
     "execution_count": 24,
     "metadata": {},
     "output_type": "execute_result"
    }
   ],
   "source": [
    "# исполните эту ячейку\n",
    "ex1 = 'Wink, wink, nudge, nudge, say no more'.split()\n",
    "ex1"
   ]
  },
  {
   "cell_type": "code",
   "execution_count": 25,
   "metadata": {
    "colab": {},
    "colab_type": "code",
    "id": "RHFO_64jiaBO"
   },
   "outputs": [],
   "source": [
    "# Задание 1\n",
    "ex1.append('say no more')"
   ]
  },
  {
   "cell_type": "code",
   "execution_count": 26,
   "metadata": {},
   "outputs": [],
   "source": [
    "# Функция для map\n",
    "def f(word):\n",
    "    return word.lower()\n",
    "\n",
    "def strp(word):\n",
    "    return word.strip(',')\n",
    "\n",
    "ex3 = list(map(f, ex1))\n",
    "ex3 = list(map(strp, ex3))"
   ]
  },
  {
   "cell_type": "code",
   "execution_count": 27,
   "metadata": {
    "colab": {},
    "colab_type": "code",
    "id": "zF5AH5p6iaP0"
   },
   "outputs": [
    {
     "name": "stdout",
     "output_type": "stream",
     "text": [
      "2\n"
     ]
    }
   ],
   "source": [
    "# Задание 2\n",
    "i = 0 # Счетчик\n",
    "for word in ex3:\n",
    "    if word == 'wink':\n",
    "        i += 1\n",
    "print(i)"
   ]
  },
  {
   "cell_type": "code",
   "execution_count": 28,
   "metadata": {
    "colab": {},
    "colab_type": "code",
    "id": "0AlxJYOaiaWu"
   },
   "outputs": [
    {
     "data": {
      "text/plain": [
       "0"
      ]
     },
     "execution_count": 28,
     "metadata": {},
     "output_type": "execute_result"
    }
   ],
   "source": [
    "ex1.count('wink') # Не работает("
   ]
  },
  {
   "cell_type": "code",
   "execution_count": 29,
   "metadata": {
    "colab": {},
    "colab_type": "code",
    "id": "p1zFNewgibDy"
   },
   "outputs": [
    {
     "data": {
      "text/plain": [
       "'say no more'"
      ]
     },
     "execution_count": 29,
     "metadata": {},
     "output_type": "execute_result"
    }
   ],
   "source": [
    "# Задача 3\n",
    "w = ex1.pop(-1)\n",
    "w"
   ]
  },
  {
   "cell_type": "code",
   "execution_count": 34,
   "metadata": {},
   "outputs": [
    {
     "data": {
      "text/plain": [
       "['Wink,', 'nudge,', 'say']"
      ]
     },
     "execution_count": 34,
     "metadata": {},
     "output_type": "execute_result"
    }
   ],
   "source": [
    "# Пример срезов\n",
    "ex1[0:5:2]"
   ]
  },
  {
   "cell_type": "code",
   "execution_count": 36,
   "metadata": {},
   "outputs": [
    {
     "data": {
      "text/plain": [
       "['more', 'no', 'say', 'nudge,', 'nudge,', 'wink,', 'Wink,']"
      ]
     },
     "execution_count": 36,
     "metadata": {},
     "output_type": "execute_result"
    }
   ],
   "source": [
    "# Задание 4\n",
    "ex1[-1::-1]"
   ]
  },
  {
   "cell_type": "code",
   "execution_count": 41,
   "metadata": {},
   "outputs": [
    {
     "data": {
      "text/plain": [
       "['Wink,', 'wink,', 'nudge,', 'nudge,', 'say', 'no', 'more']"
      ]
     },
     "execution_count": 41,
     "metadata": {},
     "output_type": "execute_result"
    }
   ],
   "source": [
    "ex1"
   ]
  },
  {
   "cell_type": "code",
   "execution_count": 39,
   "metadata": {},
   "outputs": [
    {
     "data": {
      "text/plain": [
       "4"
      ]
     },
     "execution_count": 39,
     "metadata": {},
     "output_type": "execute_result"
    }
   ],
   "source": [
    "# задание 5\n",
    "ex1.index('say')"
   ]
  },
  {
   "cell_type": "code",
   "execution_count": 40,
   "metadata": {
    "colab": {
     "base_uri": "https://localhost:8080/",
     "height": 34
    },
    "colab_type": "code",
    "id": "QdDuZr9ceD9t",
    "outputId": "a8bf0a5d-7178-4e73-c06b-d47e59c7736a"
   },
   "outputs": [
    {
     "data": {
      "text/plain": [
       "['This', 'parrot', 'is', 'no', 'more']"
      ]
     },
     "execution_count": 40,
     "metadata": {},
     "output_type": "execute_result"
    }
   ],
   "source": [
    "ex2 = 'This parrot is no more'.split()\n",
    "ex2"
   ]
  },
  {
   "cell_type": "code",
   "execution_count": 47,
   "metadata": {
    "colab": {},
    "colab_type": "code",
    "id": "1fISByrFic_6"
   },
   "outputs": [
    {
     "data": {
      "text/plain": [
       "{'more', 'no'}"
      ]
     },
     "execution_count": 47,
     "metadata": {},
     "output_type": "execute_result"
    }
   ],
   "source": [
    "# Задание 6\n",
    "# Вызваем set на этих списках\n",
    "set(ex1) & set(ex2)"
   ]
  },
  {
   "cell_type": "code",
   "execution_count": 48,
   "metadata": {
    "colab": {},
    "colab_type": "code",
    "id": "AtR_WHVPidIB"
   },
   "outputs": [
    {
     "data": {
      "text/plain": [
       "['wink,', 'This', 'is', 'more', 'say', 'nudge,', 'parrot', 'no', 'Wink,']"
      ]
     },
     "execution_count": 48,
     "metadata": {},
     "output_type": "execute_result"
    }
   ],
   "source": [
    "# Задание 7\n",
    "list(set(ex1) | set(ex2))"
   ]
  },
  {
   "cell_type": "code",
   "execution_count": 55,
   "metadata": {
    "colab": {},
    "colab_type": "code",
    "id": "G4U7N-90idUD"
   },
   "outputs": [
    {
     "data": {
      "text/plain": [
       "'This¯(ツ)/¯parrot¯(ツ)/¯is¯(ツ)/¯no¯(ツ)/¯more'"
      ]
     },
     "execution_count": 55,
     "metadata": {},
     "output_type": "execute_result"
    }
   ],
   "source": [
    "# Задание 8\n",
    "'¯(ツ)/¯'.join(ex2)"
   ]
  },
  {
   "cell_type": "code",
   "execution_count": 56,
   "metadata": {},
   "outputs": [
    {
     "data": {
      "text/plain": [
       "['wink,', 'say', 'Wink,']"
      ]
     },
     "execution_count": 56,
     "metadata": {},
     "output_type": "execute_result"
    }
   ],
   "source": [
    "# Задание 9\n",
    "list(set(ex1) | set(ex2))[::4]"
   ]
  },
  {
   "cell_type": "code",
   "execution_count": 57,
   "metadata": {
    "colab": {},
    "colab_type": "code",
    "id": "KBmyAwNxidYq"
   },
   "outputs": [
    {
     "data": {
      "text/plain": [
       "['Wink,', 'parrot', 'say', 'is', 'wink,']"
      ]
     },
     "execution_count": 57,
     "metadata": {},
     "output_type": "execute_result"
    }
   ],
   "source": [
    "# Задание 10\n",
    "list(set(ex1) | set(ex2))[-1::-2]"
   ]
  },
  {
   "cell_type": "markdown",
   "metadata": {
    "colab_type": "text",
    "id": "JTylSLrzZHOv"
   },
   "source": [
    "### Задание 2 (1 балл)  \n",
    "Вам пришло письмо с важной информацией (подается в программу в виде одной строки), но из-за того, что у автора письма дома живет кот, который очень любит ходить по клавиатуре, помимо нормальных слов также встречаются бессмысленные наборы символов, содержащие и цифры, и буквы, и прочие знаки. Нормальные слова содержат только буквы (латиницей). Удалите бессмысленные наборы символов и оставьте только нормальные слова (верните в виде одной строки, где слова разделены пробелами).\n",
    "\n",
    "**Пример**\n",
    "\n",
    "**Ввод:**\n",
    "  \n",
    "abc ewr4343t** qwerty 4rtt 3$$us££  \n",
    "\n",
    "**Вывод:**\n",
    "\n",
    "abc qwerty"
   ]
  },
  {
   "cell_type": "code",
   "execution_count": 65,
   "metadata": {
    "colab": {},
    "colab_type": "code",
    "id": "F6O7KFutmiAR"
   },
   "outputs": [
    {
     "name": "stdout",
     "output_type": "stream",
     "text": [
      "\n",
      "\n"
     ]
    }
   ],
   "source": [
    "s = input().split()\n",
    "w = []\n",
    "for word in s:\n",
    "    indicator = True\n",
    "    for elem in word:\n",
    "        if not elem.isalpha():\n",
    "            indicator = False\n",
    "    if indicator == True:\n",
    "        w.append(word)\n",
    "print(' '.join(w))"
   ]
  },
  {
   "cell_type": "markdown",
   "metadata": {
    "colab_type": "text",
    "id": "6_aJeeJPZHRA"
   },
   "source": [
    "### Задание 3 (1.5 балла; 0.5 за каждый пункт)  \n",
    "\n",
    "__Пункт 1__ Напишите программу, которая проверяет, являются ли все элементы списка палиндромами (строки, которые читаются слева направо и справа налево одинаково).\n",
    "\n",
    "\n",
    "**Пример.**\n",
    "\n",
    "**Используйте этот список:**\n",
    "\n",
    "['aba', 12321, 'aaccdccaa']  \n",
    "\n",
    "**Вывод:**  \n",
    "True    \n",
    "\n",
    "__Пункт 2__ Напишите программу, которая проверяет, одинаковый ли у двух списков первый элемент.  \n",
    "\n",
    "**Пример.**\n",
    "\n",
    "**Используйте эти списки:**  \n",
    "['aba', 12321, 'aaccdccaa']  \n",
    "['ada', 12321, 'aaccdccaa']  \n",
    "\n",
    "**Вывод:**\n",
    "\n",
    "False  \n",
    "\n",
    "__Пункт 3__ Напишите программу, которая бы принимала на вход последовательность чисел (признак конца: ввод числа 0, не входит в список) и возвращала бы строку, записанную из введеных чисел наоборот  \n",
    "\n",
    "**Пример.**\n",
    "**Ввод:**  \n",
    "1  \n",
    "2  \n",
    "36  \n",
    "3  \n",
    "178  \n",
    "0  \n",
    "\n",
    "**Вывод:**\n",
    "17833621 "
   ]
  },
  {
   "cell_type": "code",
   "execution_count": 79,
   "metadata": {
    "colab": {},
    "colab_type": "code",
    "id": "ERIwUjr8mibn"
   },
   "outputs": [
    {
     "name": "stdout",
     "output_type": "stream",
     "text": [
      "True\n"
     ]
    }
   ],
   "source": [
    "# пункт 1 ( ͡° ͜ʖ ͡°)づ ━━ ✫・*。\n",
    "s = list(map(str, ['aba', 12321, 'aaccdccaa']))\n",
    "indicator = True\n",
    "for elem in s:\n",
    "    if elem != elem[-1::-1]:\n",
    "        indicator = False\n",
    "print(indicator)"
   ]
  },
  {
   "cell_type": "code",
   "execution_count": 80,
   "metadata": {
    "colab": {},
    "colab_type": "code",
    "id": "Q0jcM6YGFf9m"
   },
   "outputs": [
    {
     "name": "stdout",
     "output_type": "stream",
     "text": [
      "False\n"
     ]
    }
   ],
   "source": [
    "# пункт 2 ( ͡° ͜ʖ ͡°)づ ━━ ✫・*。\n",
    "s1 = ['aba', 12321, 'aaccdccaa'][0]\n",
    "s2 = ['ada', 12321, 'aaccdccaa'][0]\n",
    "if s1 == s2:\n",
    "    print('True')\n",
    "else:\n",
    "    print('False')"
   ]
  },
  {
   "cell_type": "code",
   "execution_count": 83,
   "metadata": {
    "colab": {},
    "colab_type": "code",
    "id": "EIQr1j-iFhRE"
   },
   "outputs": [
    {
     "name": "stdout",
     "output_type": "stream",
     "text": [
      "1\n",
      "2\n",
      "3\n",
      "4\n",
      "5\n",
      "0\n",
      "54321\n"
     ]
    }
   ],
   "source": [
    "# пункт 3 ( ͡° ͜ʖ ͡°)づ ━━ ✫・*。\n",
    "s = ''\n",
    "a = int(input())\n",
    "while a != 0:\n",
    "    s = str(a) + s\n",
    "    a = int(input())\n",
    "print(s)"
   ]
  },
  {
   "cell_type": "markdown",
   "metadata": {
    "colab_type": "text",
    "id": "_5wcZWr-ZHTK"
   },
   "source": [
    "## Задание 4 (1.5 балла; 0.5 за каждый пункт)  \n",
    "\n",
    "На вход вам подаются данные через пробел, все из которых являются строками. Вам необходимо вернуть список из тех же слов, но сначала сделать все первые буквы заглавными, а затем написать слово наоборот. \n",
    "\n",
    "Решите эту задачу 3 разными способами. \n",
    "\n",
    "1 способ - напишите свою функцию (через def f()) и передайте ее в функцию map. \n",
    "\n",
    "2 способ - через циклы (проходя по каждому элементу и выполняя с ним нужные преобразования). \n",
    "\n",
    "3 способ - через анонимную функцию (lambda x: x)  \n",
    "\n",
    "**Пример**\n",
    "\n",
    "**Ввод:**  \n",
    "abc qwerty dcb\n",
    "\n",
    "**Вывод (ваш список, сгенерированный разными способами:**  \n",
    "['cbA', 'ytrewQ', 'bcD']"
   ]
  },
  {
   "cell_type": "code",
   "execution_count": 0,
   "metadata": {
    "colab": {},
    "colab_type": "code",
    "id": "ZeCLG-Dtmi32"
   },
   "outputs": [],
   "source": [
    "# пункт 1 ( ͡° ͜ʖ ͡°)づ ━━ ✫・*。"
   ]
  },
  {
   "cell_type": "code",
   "execution_count": 0,
   "metadata": {
    "colab": {},
    "colab_type": "code",
    "id": "8ZDc73HVFky2"
   },
   "outputs": [],
   "source": [
    "# пункт 2 ( ͡° ͜ʖ ͡°)づ ━━ ✫・*。"
   ]
  },
  {
   "cell_type": "code",
   "execution_count": 0,
   "metadata": {
    "colab": {},
    "colab_type": "code",
    "id": "lX3guxZkFlm1"
   },
   "outputs": [],
   "source": [
    "# пункт 3 ( ͡° ͜ʖ ͡°)づ ━━ ✫・*。"
   ]
  },
  {
   "cell_type": "markdown",
   "metadata": {
    "colab_type": "text",
    "id": "2hBXEDclZHVb"
   },
   "source": [
    "### Задание 5 (1 балл)  \n",
    "\n",
    "Группа из 3 студентов пишет заявки на желаемые факультативы из списка: английский, немецкий, право, математика, сольфеджио. Факультатив откроют, если на него запишутся все студенты. Каждый студент может выбрать минимум один и максимум три факультатива. Нужно посчитать количество факультативов, которые откроются.\n",
    "\n",
    "**Формат ввода:**\n",
    "\n",
    "Заявки на факультативы от студентов: факультативы из списка, разделенные пробелом.\n",
    "Для каждого студента факультативы вводятся в новой строке.\n",
    "На ввод гарантировано подается информация для трех студентов.\n",
    "\n",
    "**Формат вывода:**\n",
    "\n",
    "Количество факультативов, на которые записались три человека.\n",
    "\n",
    "**Пример 1:**\n",
    "\n",
    "**Ввод:**\n",
    "\n",
    "английский сольфеджио право\n",
    "\n",
    "математика сольфеджио\n",
    "\n",
    "немецкий право\n",
    "\n",
    "**Вывод:**\n",
    "\n",
    "0\n",
    "\n",
    "**Пример 2:**\n",
    "\n",
    "**Ввод:**\n",
    "\n",
    "математика немецкий право\n",
    "\n",
    "математика немецкий\n",
    "\n",
    "немецкий право математика\n",
    "\n",
    "**Вывод:**\n",
    "\n",
    "2"
   ]
  },
  {
   "cell_type": "code",
   "execution_count": 0,
   "metadata": {
    "colab": {},
    "colab_type": "code",
    "id": "wJFBkGttmjn9"
   },
   "outputs": [],
   "source": [
    "# ( ͡° ͜ʖ ͡°)づ ━━ ✫・*。"
   ]
  },
  {
   "cell_type": "markdown",
   "metadata": {
    "colab_type": "text",
    "id": "BTfJEyt0ZHXt"
   },
   "source": [
    "### Задание 6 (2 балла; +0.5 за сортировку)  \n",
    "\n",
    "\n",
    "У Васи есть плейлист. Необходимо сгруппировать названия песен по исполнителям.\n",
    "\n",
    "*(0.5 баллов)*\n",
    "\n",
    "Необходимо отсортировать названия песен и исполнителей по алфавиту.\n",
    "\n",
    "**Формат ввода:**\n",
    "\n",
    "Список исполнителей и песен в следующем формате:\n",
    "\n",
    "**Число исполнителей**\n",
    "Имя исполнителя: название песни 1, название песни 2 и т.д.\n",
    "Имя каждого исполнителя и его песен вводится с новой строки\n",
    "Названия песен перечислены через запятую\n",
    "\n",
    "**Формат вывода:**\n",
    "\n",
    "Список исполнителей и песен, сгруппированных по исполнителю:\n",
    "\n",
    "Имя исполнителя: название песни 1, название песни 2 и т.д.\n",
    "Имя каждого исполнителя и его песен вводится с новой строки\n",
    "Названия песен перечислены через запятую\n",
    "\n",
    "**Пример:**\n",
    "\n",
    "**Ввод:**\n",
    "\n",
    "3\n",
    "\n",
    "Queen: bohemian rhapsody, a kind of magic\n",
    "\n",
    "The beatles: and I love her\n",
    "\n",
    "Queen: the show must go on, bohemian rhapsody\n",
    "\n",
    "**Вывод:**\n",
    "\n",
    "Queen: a kind of magic, bohemian rhapsody, the show must go on\n",
    "\n",
    "The beatles: and I love her"
   ]
  },
  {
   "cell_type": "code",
   "execution_count": 104,
   "metadata": {
    "colab": {},
    "colab_type": "code",
    "id": "FBhAUb5FmxUx"
   },
   "outputs": [
    {
     "name": "stdout",
     "output_type": "stream",
     "text": [
      "3\n",
      "Queen: bohemian rhapsody, a kind of magic\n",
      "The beatles: and I love her\n",
      "Queen: the show must go on, bohemian rhapsody\n",
      "Queen: a kind of magic, bohemian rhapsody, the show must go on\n",
      "The beatles: and I love her\n"
     ]
    }
   ],
   "source": [
    "n = int(input())\n",
    "dictionary = dict()\n",
    "for i in range(n):\n",
    "    str_of_new_artist = input()\n",
    "    index = str_of_new_artist.find(':')\n",
    "\n",
    "    key_of_dict = str_of_new_artist[:index]\n",
    "\n",
    "    songs = set(map(lambda x: x.strip(' '), str_of_new_artist[index + 2:].split(',')))\n",
    "\n",
    "    if key_of_dict in dictionary.keys():\n",
    "        dictionary[key_of_dict] = dictionary[key_of_dict] | songs\n",
    "    else:\n",
    "        dictionary[key_of_dict] = songs\n",
    "\n",
    "\n",
    "for artist in sorted(list(dictionary.keys())):\n",
    "    out = str(artist) + ':'\n",
    "    for song in sorted(list(dictionary[artist])):\n",
    "        out += ' ' + str(song) + ','\n",
    "    print(out[:-1])"
   ]
  },
  {
   "cell_type": "code",
   "execution_count": 99,
   "metadata": {},
   "outputs": [
    {
     "name": "stdout",
     "output_type": "stream",
     "text": [
      "1 2 3 4 5\n"
     ]
    }
   ],
   "source": [
    "print(*[1,2,3,4,5])"
   ]
  },
  {
   "cell_type": "markdown",
   "metadata": {
    "colab_type": "text",
    "id": "fcWK7RLnmxj9"
   },
   "source": [
    "__Задание 6__ (вариант 2)\n",
    "\n",
    "У вас есть выгрузка оставшегося количества фруктов из базы данных магазинов. Каждый словарь в списке - магазин.\n",
    "Какие-то фрукты есть в разных магазинах, какие-то только в одном. Нужно сделать словарь, в котором ключами будут фрукты, а их количество - значениями. Если фрукт есть в наличии в нескольких магазинах - сложите эти значения.\n",
    "\n",
    "**Ввод:**\n",
    "[{'фрукт': 'банан', 'количество': 400}, {'фрукт': 'яблоко', 'количество': 300},\n",
    "  {'фрукт': 'банан', 'количество': 750}, {'фрукт' : 'груша', 'количество' : 20},    {'фрукт': 'яблоко', 'количество': 150}]  \n",
    "\n",
    "**Вывод: фрукты и их общее количество, список упорядочен по алфавиту.**\n",
    "\n",
    "банан 1150  \n",
    "груша 20  \n",
    "яблоко 450  "
   ]
  },
  {
   "cell_type": "code",
   "execution_count": 0,
   "metadata": {
    "colab": {},
    "colab_type": "code",
    "id": "VLgSy0VDmyFf"
   },
   "outputs": [],
   "source": [
    "# ( ͡° ͜ʖ ͡°)づ ━━ ✫・*。"
   ]
  },
  {
   "cell_type": "markdown",
   "metadata": {
    "colab_type": "text",
    "id": "OhGYtVajZHZ5"
   },
   "source": [
    "### Задание 7 (2 балла; +1 за сортировку)  \n",
    "\n",
    "Файл mbox.txt содержит метаданные почтового сервера.В файле есть строка, которая обозначает, насколько спам фильтр уверен, что данное письмо не спам. \n",
    "\n",
    "Нужно найти среднее значения X-DSPAM-Confidence для каждого автора и среднее значение этого параметра для всей переписки. \n",
    "\n",
    "Нас интересуют только строки, начинающиеся с 'X-DSPAM-Confidence: ' (посмотрите в блокноте структуру файла). \n",
    "\n",
    "**Вывод:**\n",
    " \n",
    "пять почтовых адресов с самым низким уровнем 'X-DSPAM-Confidence', отсортированных по алфавиту в формате\n",
    "*почтовый адрес* *среднее значение X-DSPAM-Confidence для этого автора*\n",
    "\n",
    "Среднее значение X-DSPAM-Confidence для всей переписки.\n"
   ]
  },
  {
   "cell_type": "code",
   "execution_count": 0,
   "metadata": {
    "colab": {},
    "colab_type": "code",
    "id": "kre9b0iWlPrZ"
   },
   "outputs": [],
   "source": [
    "import requests\n",
    "mbox = requests.get('http://www.py4inf.com/code/mbox.txt').text\n",
    "# ( ͡° ͜ʖ ͡°)づ ━━ ✫・*。"
   ]
  }
 ],
 "metadata": {
  "colab": {
   "collapsed_sections": [],
   "name": "HSE_POL_2019_Test_Training_8Sep.ipynb",
   "provenance": []
  },
  "kernelspec": {
   "display_name": "Python 3",
   "language": "python",
   "name": "python3"
  },
  "language_info": {
   "codemirror_mode": {
    "name": "ipython",
    "version": 3
   },
   "file_extension": ".py",
   "mimetype": "text/x-python",
   "name": "python",
   "nbconvert_exporter": "python",
   "pygments_lexer": "ipython3",
   "version": "3.7.1"
  }
 },
 "nbformat": 4,
 "nbformat_minor": 1
}
